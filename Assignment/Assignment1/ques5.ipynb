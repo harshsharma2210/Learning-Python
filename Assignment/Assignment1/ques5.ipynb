{
 "metadata": {
  "language_info": {
   "codemirror_mode": {
    "name": "ipython",
    "version": 3
   },
   "file_extension": ".py",
   "mimetype": "text/x-python",
   "name": "python",
   "nbconvert_exporter": "python",
   "pygments_lexer": "ipython3",
   "version": 3
  },
  "orig_nbformat": 2
 },
 "nbformat": 4,
 "nbformat_minor": 2,
 "cells": [
  {
   "cell_type": "code",
   "execution_count": null,
   "metadata": {},
   "outputs": [],
   "source": [
    "D = {1 : \"One\",2 : \"Two\",3 : \"Three\",4 : \"Four\",5 : \"Five\"}\n",
    "d[6]=\"Six\"\n"
   ]
  }
 ]
}