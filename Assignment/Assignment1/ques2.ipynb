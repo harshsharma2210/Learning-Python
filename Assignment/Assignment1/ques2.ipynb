{
 "metadata": {
  "language_info": {
   "codemirror_mode": {
    "name": "ipython",
    "version": 3
   },
   "file_extension": ".py",
   "mimetype": "text/x-python",
   "name": "python",
   "nbconvert_exporter": "python",
   "pygments_lexer": "ipython3",
   "version": "3.8.5-final"
  },
  "orig_nbformat": 2,
  "kernelspec": {
   "name": "python3",
   "display_name": "Python 3.8.5 64-bit ('base': conda)",
   "metadata": {
    "interpreter": {
     "hash": "861b3be108c5ac8a80e77c83b2446db8e5cee05dda27fc9f03de587dd4cfc28d"
    }
   }
  }
 },
 "nbformat": 4,
 "nbformat_minor": 2,
 "cells": [
  {
   "cell_type": "code",
   "execution_count": 4,
   "metadata": {},
   "outputs": [
    {
     "output_type": "stream",
     "name": "stdout",
     "text": [
      "1800000.0\n"
     ]
    }
   ],
   "source": [
    "def gross(salary):\n",
    "    if salary <= 10000:\n",
    "        return salary + (0.2*salary) + (0.8*salary)\n",
    "    elif salary <= 20000:\n",
    "        return salary + (0.25*salary) + (0.9*salary)\n",
    "    else:\n",
    "        return salary + (0.3*salary) + (0.95*salary)\n",
    "salary=int(input(\"Enter Salary:\"))\n",
    "print(gross(salary))"
   ]
  },
  {
   "cell_type": "code",
   "execution_count": null,
   "metadata": {},
   "outputs": [],
   "source": []
  }
 ]
}