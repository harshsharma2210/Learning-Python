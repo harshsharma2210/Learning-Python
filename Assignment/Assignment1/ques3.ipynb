{
 "metadata": {
  "language_info": {
   "codemirror_mode": {
    "name": "ipython",
    "version": 3
   },
   "file_extension": ".py",
   "mimetype": "text/x-python",
   "name": "python",
   "nbconvert_exporter": "python",
   "pygments_lexer": "ipython3",
   "version": "3.8.5-final"
  },
  "orig_nbformat": 2,
  "kernelspec": {
   "name": "python3",
   "display_name": "Python 3.8.5 64-bit ('base': conda)",
   "metadata": {
    "interpreter": {
     "hash": "861b3be108c5ac8a80e77c83b2446db8e5cee05dda27fc9f03de587dd4cfc28d"
    }
   }
  }
 },
 "nbformat": 4,
 "nbformat_minor": 2,
 "cells": [
  {
   "cell_type": "code",
   "execution_count": 10,
   "metadata": {},
   "outputs": [
    {
     "output_type": "stream",
     "name": "stdout",
     "text": [
      "Invalid Password\n"
     ]
    }
   ],
   "source": [
    "def pass_checker(password):\n",
    "    lower = False\n",
    "    upper = False\n",
    "    sc=False\n",
    "    digit = False\n",
    "    if(len(password) < 6 or len(password) > 16):\n",
    "        return False\n",
    "    else:\n",
    "        for i in password:\n",
    "            if(i.islower()):\n",
    "                lower = True\n",
    "            if(i.isupper()):\n",
    "                upper = True\n",
    "            if(i.isdigit()):\n",
    "                digit = True\n",
    "            if(i == '@' or i == '$' or i=='_'):\n",
    "                sc = True\n",
    "    \n",
    "        if(lower and upper and digit and sc):\n",
    "            return True\n",
    "        else:\n",
    "            return False\n",
    "      \n",
    "password = input('Enter the Password ')\n",
    "if(pass_checker(password)):\n",
    "    print('Valid Password')\n",
    "else:\n",
    "    print('Invalid Password')"
   ]
  }
 ]
}