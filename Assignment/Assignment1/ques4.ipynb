{
 "metadata": {
  "language_info": {
   "codemirror_mode": {
    "name": "ipython",
    "version": 3
   },
   "file_extension": ".py",
   "mimetype": "text/x-python",
   "name": "python",
   "nbconvert_exporter": "python",
   "pygments_lexer": "ipython3",
   "version": "3.8.5-final"
  },
  "orig_nbformat": 2,
  "kernelspec": {
   "name": "python3",
   "display_name": "Python 3.8.5 64-bit ('base': conda)",
   "metadata": {
    "interpreter": {
     "hash": "861b3be108c5ac8a80e77c83b2446db8e5cee05dda27fc9f03de587dd4cfc28d"
    }
   }
  }
 },
 "nbformat": 4,
 "nbformat_minor": 2,
 "cells": [
  {
   "cell_type": "code",
   "execution_count": 1,
   "metadata": {},
   "outputs": [
    {
     "output_type": "stream",
     "name": "stdout",
     "text": [
      "[10, 20, 30, 40, 50, 60, 70, 80]\n[10, 20, 30, 40, 50, 60, 70, 80, 200]\n[10, 20, 30, 40, 50, 60, 70, 80, 200, 300]\n[20, 30, 40, 50, 60, 70, 80, 200, 300]\n[20, 40, 50, 60, 70, 80, 200, 300]\n[20, 40, 50, 60, 70, 80, 200, 300]\n[300, 200, 80, 70, 60, 50, 40, 20]\n"
     ]
    }
   ],
   "source": [
    "L = [10, 20 , 30 , 40 , 50 , 60 , 70 , 80]\n",
    "print(L)\n",
    "L.append(200);\n",
    "print(L)\n",
    "L.append(300)\n",
    "print(L)\n",
    "L.remove(10)\n",
    "print(L)\n",
    "L.remove(30)\n",
    "print(L)\n",
    "L.sort()\n",
    "print(L)\n",
    "L.reverse()\n",
    "print(L)"
   ]
  },
  {
   "cell_type": "code",
   "execution_count": null,
   "metadata": {},
   "outputs": [],
   "source": []
  }
 ]
}