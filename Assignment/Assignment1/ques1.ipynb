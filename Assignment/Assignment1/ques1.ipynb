{
 "metadata": {
  "language_info": {
   "codemirror_mode": {
    "name": "ipython",
    "version": 3
   },
   "file_extension": ".py",
   "mimetype": "text/x-python",
   "name": "python",
   "nbconvert_exporter": "python",
   "pygments_lexer": "ipython3",
   "version": "3.8.5-final"
  },
  "orig_nbformat": 2,
  "kernelspec": {
   "name": "python3",
   "display_name": "Python 3.8.5 64-bit ('base': conda)",
   "metadata": {
    "interpreter": {
     "hash": "861b3be108c5ac8a80e77c83b2446db8e5cee05dda27fc9f03de587dd4cfc28d"
    }
   }
  }
 },
 "nbformat": 4,
 "nbformat_minor": 2,
 "cells": [
  {
   "cell_type": "code",
   "execution_count": 23,
   "metadata": {},
   "outputs": [
    {
     "output_type": "stream",
     "name": "stdout",
     "text": [
      "Maths- Highest marks 5 Lowest Marks 1 Average Marks 0.6\nscience- Highest marks 6 Lowest Marks 2 Average Marks 0.8\nenglish- Highest marks 7 Lowest Marks 3 Average Marks 1.0\nIT- Highest marks 8 Lowest Marks 4 Average Marks 1.2\nhighest, lowest(out of 400) and average marks all over 26 10 3.6\n"
     ]
    }
   ],
   "source": [
    "maths=[]\n",
    "science=[]\n",
    "english=[]\n",
    "IT=[]\n",
    "for i in range(10):\n",
    "    maths.append(int(input('Enter marks in Maths')))\n",
    "    science.append(int(input('Enter marks in science')))\n",
    "    english.append(int(input('Enter marks in english')))\n",
    "    IT.append(int(input('Enter marks in IT')))\n",
    "math_sum = sum(maths)\n",
    "science_sum = sum(science)\n",
    "english_sum = sum(english)\n",
    "IT_sum = sum(IT)\n",
    "print(\"Maths- Highest marks {} Lowest Marks {} Average Marks {}\".format(max(maths),min(maths),sum(maths)/10))\n",
    "print('science- Highest marks {} Lowest Marks {} Average Marks {}'.format(max(science),min(science),sum(science)/10))\n",
    "print('english- Highest marks {} Lowest Marks {} Average Marks {}'.format(max(english),min(english),sum(english)/10))\n",
    "print('IT- Highest marks {} Lowest Marks {} Average Marks {}'.format(max(IT),min(IT),sum(IT)/10))\n",
    "\n",
    "total=[]\n",
    "\n",
    "for i in range(10):\n",
    "    total.append(maths[i]+science[i]+english[i]+IT[i])\n",
    "total_sum=sum(total)\n",
    "print(\"highest, lowest(out of 400) and average marks all over\",max(total),min(total),(total_sum/10))"
   ]
  },
  {
   "cell_type": "code",
   "execution_count": null,
   "metadata": {},
   "outputs": [],
   "source": []
  }
 ]
}